{
 "cells": [
  {
   "cell_type": "code",
   "execution_count": 1,
   "metadata": {},
   "outputs": [
    {
     "name": "stderr",
     "output_type": "stream",
     "text": [
      "C:\\Users\\l\\Anaconda3N\\envs\\ai\\lib\\site-packages\\h5py\\__init__.py:36: FutureWarning: Conversion of the second argument of issubdtype from `float` to `np.floating` is deprecated. In future, it will be treated as `np.float64 == np.dtype(float).type`.\n",
      "  from ._conv import register_converters as _register_converters\n"
     ]
    }
   ],
   "source": [
    "%matplotlib inline\n",
    "\n",
    "import pickle as pkl\n",
    "import numpy as np\n",
    "import tensorflow as tf\n",
    "import matplotlib.pyplot as plt"
   ]
  },
  {
   "cell_type": "code",
   "execution_count": 2,
   "metadata": {},
   "outputs": [
    {
     "name": "stdout",
     "output_type": "stream",
     "text": [
      "WARNING:tensorflow:From <ipython-input-2-a37a59f11b0d>:2: read_data_sets (from tensorflow.contrib.learn.python.learn.datasets.mnist) is deprecated and will be removed in a future version.\n",
      "Instructions for updating:\n",
      "Please use alternatives such as official/mnist/dataset.py from tensorflow/models.\n",
      "WARNING:tensorflow:From C:\\Users\\l\\Anaconda3N\\envs\\ai\\lib\\site-packages\\tensorflow\\contrib\\learn\\python\\learn\\datasets\\mnist.py:260: maybe_download (from tensorflow.contrib.learn.python.learn.datasets.base) is deprecated and will be removed in a future version.\n",
      "Instructions for updating:\n",
      "Please write your own downloading logic.\n",
      "WARNING:tensorflow:From C:\\Users\\l\\Anaconda3N\\envs\\ai\\lib\\site-packages\\tensorflow\\contrib\\learn\\python\\learn\\datasets\\mnist.py:262: extract_images (from tensorflow.contrib.learn.python.learn.datasets.mnist) is deprecated and will be removed in a future version.\n",
      "Instructions for updating:\n",
      "Please use tf.data to implement this functionality.\n",
      "Extracting MNIST_data\\train-images-idx3-ubyte.gz\n",
      "WARNING:tensorflow:From C:\\Users\\l\\Anaconda3N\\envs\\ai\\lib\\site-packages\\tensorflow\\contrib\\learn\\python\\learn\\datasets\\mnist.py:267: extract_labels (from tensorflow.contrib.learn.python.learn.datasets.mnist) is deprecated and will be removed in a future version.\n",
      "Instructions for updating:\n",
      "Please use tf.data to implement this functionality.\n",
      "Extracting MNIST_data\\train-labels-idx1-ubyte.gz\n",
      "Extracting MNIST_data\\t10k-images-idx3-ubyte.gz\n",
      "Extracting MNIST_data\\t10k-labels-idx1-ubyte.gz\n",
      "WARNING:tensorflow:From C:\\Users\\l\\Anaconda3N\\envs\\ai\\lib\\site-packages\\tensorflow\\contrib\\learn\\python\\learn\\datasets\\mnist.py:290: DataSet.__init__ (from tensorflow.contrib.learn.python.learn.datasets.mnist) is deprecated and will be removed in a future version.\n",
      "Instructions for updating:\n",
      "Please use alternatives such as official/mnist/dataset.py from tensorflow/models.\n"
     ]
    }
   ],
   "source": [
    "from tensorflow.examples.tutorials.mnist import input_data\n",
    "mnist = input_data.read_data_sets('MNIST_data')"
   ]
  },
  {
   "cell_type": "code",
   "execution_count": 8,
   "metadata": {},
   "outputs": [],
   "source": [
    "def model_inputs(real_dim, z_dim):\n",
    "    inputs_real = tf.placeholder(tf.float32, (None,real_dim), name=\"input_real\")\n",
    "    inputs_z = tf.placeholder(tf.float32, (None,z_dim), name=\"input_z\")\n",
    "    \n",
    "    return inputs_real, inputs_z"
   ]
  },
  {
   "cell_type": "code",
   "execution_count": 9,
   "metadata": {},
   "outputs": [],
   "source": [
    "def generator(z, out_dim, n_units=128, reuse=False, alpha=0.01):\n",
    "    with tf.variable_scope(\"generator\", reuse=reuse):\n",
    "        h1 = tf.layers.dense(z, n_units, activation=None)\n",
    "        h1 = tf.maximum(alpha*h1,h1)\n",
    "        \n",
    "        logits = tf.layers.dense(h1, out_dim, activation=None)\n",
    "        out = tf.tanh(logits)\n",
    "        \n",
    "        return out"
   ]
  },
  {
   "cell_type": "code",
   "execution_count": 10,
   "metadata": {},
   "outputs": [],
   "source": [
    "def discriminator(x, n_units=128, reuse=False, alpha=0.01):\n",
    "    with tf.variable_scope(\"discriminator\",reuse=reuse):\n",
    "        h1 = tf.layers.dense(x, n_units, activation=None)\n",
    "        h1 = tf.maximum(h1*alpha,h1)\n",
    "        \n",
    "        logits = tf.layers.dense(h1, 1, activation=None)\n",
    "        out = tf.sigmoid(logits)\n",
    "        \n",
    "        return out, logits"
   ]
  },
  {
   "cell_type": "code",
   "execution_count": 11,
   "metadata": {},
   "outputs": [],
   "source": [
    "input_size=784\n",
    "z_size=100\n",
    "g_hidden_size=128\n",
    "d_hidden_size=128\n",
    "alpha=0.01\n",
    "smooth=0.1"
   ]
  },
  {
   "cell_type": "code",
   "execution_count": 12,
   "metadata": {},
   "outputs": [],
   "source": [
    "tf.reset_default_graph()\n",
    "input_real, input_z = model_inputs(input_size, z_size)\n",
    "g_model = generator(input_z, input_size,n_units=g_hidden_size,alpha=alpha)\n",
    "\n",
    "d_model_real, d_logits_real = discriminator(input_real, n_units=d_hidden_size, alpha=alpha)\n",
    "d_model_fake, d_logits_fake = discriminator(g_model, reuse=True, n_units=d_hidden_size,alpha=alpha)"
   ]
  },
  {
   "cell_type": "code",
   "execution_count": 14,
   "metadata": {},
   "outputs": [],
   "source": [
    "d_loss_real = tf.reduce_mean(tf.nn.sigmoid_cross_entropy_with_logits(logits=d_logits_real, labels=tf.ones_like(d_logits_real)*(1-smooth)))\n",
    "d_loss_fake = tf.reduce_mean(tf.nn.sigmoid_cross_entropy_with_logits(logits=d_logits_fake, labels=tf.zeros_like(d_logits_fake)*(1-smooth)))\n",
    "\n",
    "d_loss = d_loss_real + d_loss_fake\n",
    "g_loss = tf.reduce_mean(tf.nn.sigmoid_cross_entropy_with_logits(logits=d_logits_fake, labels=tf.ones_like(d_logits_fake)*(1-smooth)))"
   ]
  },
  {
   "cell_type": "code",
   "execution_count": 15,
   "metadata": {},
   "outputs": [],
   "source": [
    "lr = 0.002\n",
    "\n",
    "t_vars = tf.trainable_variables()\n",
    "d_vars = [var for var in t_vars if var.name.startswith(\"discriminator\")]\n",
    "g_vars = [var for var in t_vars if var.name.startswith(\"generator\")]\n",
    "\n",
    "d_train_opt = tf.train.AdamOptimizer(lr).minimize(d_loss, var_list=d_vars)\n",
    "g_train_opt = tf.train.AdamOptimizer(lr).minimize(g_loss, var_list=g_vars)\n"
   ]
  },
  {
   "cell_type": "code",
   "execution_count": 17,
   "metadata": {},
   "outputs": [
    {
     "name": "stdout",
     "output_type": "stream",
     "text": [
      "Epoch 1/100... Discriminator Loss: 0.3728... Generator Loss: 3.1004\n",
      "Epoch 2/100... Discriminator Loss: 0.3472... Generator Loss: 4.1480\n",
      "Epoch 3/100... Discriminator Loss: 0.5124... Generator Loss: 5.1995\n",
      "Epoch 4/100... Discriminator Loss: 0.7329... Generator Loss: 2.7857\n",
      "Epoch 5/100... Discriminator Loss: 0.7673... Generator Loss: 3.2703\n",
      "Epoch 6/100... Discriminator Loss: 0.7494... Generator Loss: 4.6565\n",
      "Epoch 7/100... Discriminator Loss: 0.6966... Generator Loss: 2.2251\n",
      "Epoch 8/100... Discriminator Loss: 1.1784... Generator Loss: 1.8587\n",
      "Epoch 9/100... Discriminator Loss: 0.8317... Generator Loss: 1.7435\n",
      "Epoch 10/100... Discriminator Loss: 0.9525... Generator Loss: 2.3043\n",
      "Epoch 11/100... Discriminator Loss: 1.3404... Generator Loss: 2.1236\n",
      "Epoch 12/100... Discriminator Loss: 1.3215... Generator Loss: 2.7735\n",
      "Epoch 13/100... Discriminator Loss: 1.0911... Generator Loss: 2.3250\n",
      "Epoch 14/100... Discriminator Loss: 0.8074... Generator Loss: 2.8552\n",
      "Epoch 15/100... Discriminator Loss: 1.1956... Generator Loss: 1.5817\n",
      "Epoch 16/100... Discriminator Loss: 0.8082... Generator Loss: 3.0347\n",
      "Epoch 17/100... Discriminator Loss: 1.2154... Generator Loss: 1.7198\n",
      "Epoch 18/100... Discriminator Loss: 1.0441... Generator Loss: 2.4566\n",
      "Epoch 19/100... Discriminator Loss: 1.0381... Generator Loss: 1.9888\n",
      "Epoch 20/100... Discriminator Loss: 0.9687... Generator Loss: 2.5075\n",
      "Epoch 21/100... Discriminator Loss: 0.9509... Generator Loss: 1.9366\n",
      "Epoch 22/100... Discriminator Loss: 0.8050... Generator Loss: 2.0754\n",
      "Epoch 23/100... Discriminator Loss: 0.9436... Generator Loss: 2.5324\n",
      "Epoch 24/100... Discriminator Loss: 0.7092... Generator Loss: 2.8065\n",
      "Epoch 25/100... Discriminator Loss: 0.9864... Generator Loss: 1.6040\n",
      "Epoch 26/100... Discriminator Loss: 1.0442... Generator Loss: 2.0036\n",
      "Epoch 27/100... Discriminator Loss: 1.1471... Generator Loss: 2.2562\n",
      "Epoch 28/100... Discriminator Loss: 0.8010... Generator Loss: 2.3165\n",
      "Epoch 29/100... Discriminator Loss: 0.7733... Generator Loss: 2.2006\n",
      "Epoch 30/100... Discriminator Loss: 0.9562... Generator Loss: 2.8369\n",
      "Epoch 31/100... Discriminator Loss: 0.8258... Generator Loss: 2.4581\n",
      "Epoch 32/100... Discriminator Loss: 0.8783... Generator Loss: 1.5120\n",
      "Epoch 33/100... Discriminator Loss: 0.9829... Generator Loss: 2.0601\n",
      "Epoch 34/100... Discriminator Loss: 1.1700... Generator Loss: 2.1685\n",
      "Epoch 35/100... Discriminator Loss: 0.9241... Generator Loss: 2.3674\n",
      "Epoch 36/100... Discriminator Loss: 0.9669... Generator Loss: 2.6595\n",
      "Epoch 37/100... Discriminator Loss: 1.0432... Generator Loss: 1.4314\n",
      "Epoch 38/100... Discriminator Loss: 1.0691... Generator Loss: 1.9270\n",
      "Epoch 39/100... Discriminator Loss: 0.9449... Generator Loss: 2.2674\n",
      "Epoch 40/100... Discriminator Loss: 0.7787... Generator Loss: 1.8870\n",
      "Epoch 41/100... Discriminator Loss: 0.8477... Generator Loss: 1.8712\n",
      "Epoch 42/100... Discriminator Loss: 1.1207... Generator Loss: 1.4681\n",
      "Epoch 43/100... Discriminator Loss: 0.9091... Generator Loss: 1.9907\n",
      "Epoch 44/100... Discriminator Loss: 0.9490... Generator Loss: 2.0229\n",
      "Epoch 45/100... Discriminator Loss: 1.0526... Generator Loss: 1.4654\n",
      "Epoch 46/100... Discriminator Loss: 0.7776... Generator Loss: 2.1157\n",
      "Epoch 47/100... Discriminator Loss: 0.9452... Generator Loss: 2.2778\n",
      "Epoch 48/100... Discriminator Loss: 0.8815... Generator Loss: 1.9699\n",
      "Epoch 49/100... Discriminator Loss: 0.9276... Generator Loss: 2.2556\n",
      "Epoch 50/100... Discriminator Loss: 0.7796... Generator Loss: 2.1685\n",
      "Epoch 51/100... Discriminator Loss: 0.8215... Generator Loss: 2.2138\n",
      "Epoch 52/100... Discriminator Loss: 0.8740... Generator Loss: 2.0982\n",
      "Epoch 53/100... Discriminator Loss: 0.8493... Generator Loss: 2.2229\n",
      "Epoch 54/100... Discriminator Loss: 0.9804... Generator Loss: 1.7372\n",
      "Epoch 55/100... Discriminator Loss: 1.1545... Generator Loss: 1.9098\n",
      "Epoch 56/100... Discriminator Loss: 0.9793... Generator Loss: 1.4006\n",
      "Epoch 57/100... Discriminator Loss: 1.0467... Generator Loss: 1.6759\n",
      "Epoch 58/100... Discriminator Loss: 0.8885... Generator Loss: 2.1829\n",
      "Epoch 59/100... Discriminator Loss: 0.9422... Generator Loss: 1.8296\n",
      "Epoch 60/100... Discriminator Loss: 0.9439... Generator Loss: 1.7110\n",
      "Epoch 61/100... Discriminator Loss: 0.8944... Generator Loss: 1.9660\n",
      "Epoch 62/100... Discriminator Loss: 1.0104... Generator Loss: 1.5125\n",
      "Epoch 63/100... Discriminator Loss: 0.8254... Generator Loss: 1.7913\n",
      "Epoch 64/100... Discriminator Loss: 1.0320... Generator Loss: 1.4164\n",
      "Epoch 65/100... Discriminator Loss: 0.9919... Generator Loss: 1.8353\n",
      "Epoch 66/100... Discriminator Loss: 0.8430... Generator Loss: 2.0986\n",
      "Epoch 67/100... Discriminator Loss: 0.8031... Generator Loss: 1.9258\n",
      "Epoch 68/100... Discriminator Loss: 0.8856... Generator Loss: 2.2044\n",
      "Epoch 69/100... Discriminator Loss: 0.8997... Generator Loss: 1.5755\n",
      "Epoch 70/100... Discriminator Loss: 0.8105... Generator Loss: 1.8372\n",
      "Epoch 71/100... Discriminator Loss: 0.8579... Generator Loss: 2.0861\n",
      "Epoch 72/100... Discriminator Loss: 1.0318... Generator Loss: 1.7758\n",
      "Epoch 73/100... Discriminator Loss: 0.8977... Generator Loss: 1.9769\n",
      "Epoch 74/100... Discriminator Loss: 0.9295... Generator Loss: 2.2402\n",
      "Epoch 75/100... Discriminator Loss: 0.9102... Generator Loss: 1.6902\n",
      "Epoch 76/100... Discriminator Loss: 1.1611... Generator Loss: 1.4879\n",
      "Epoch 77/100... Discriminator Loss: 0.8393... Generator Loss: 1.8048\n",
      "Epoch 78/100... Discriminator Loss: 0.9812... Generator Loss: 1.8198\n",
      "Epoch 79/100... Discriminator Loss: 1.0134... Generator Loss: 1.5025\n",
      "Epoch 80/100... Discriminator Loss: 0.9806... Generator Loss: 2.0879\n",
      "Epoch 81/100... Discriminator Loss: 1.0848... Generator Loss: 1.5427\n",
      "Epoch 82/100... Discriminator Loss: 0.9365... Generator Loss: 1.7177\n",
      "Epoch 83/100... Discriminator Loss: 0.8249... Generator Loss: 1.9380\n",
      "Epoch 84/100... Discriminator Loss: 0.8735... Generator Loss: 1.8341\n",
      "Epoch 85/100... Discriminator Loss: 0.9494... Generator Loss: 1.7255\n",
      "Epoch 86/100... Discriminator Loss: 1.0085... Generator Loss: 1.5978\n",
      "Epoch 87/100... Discriminator Loss: 0.9520... Generator Loss: 1.6862\n",
      "Epoch 88/100... Discriminator Loss: 1.0096... Generator Loss: 1.9133\n",
      "Epoch 89/100... Discriminator Loss: 1.0994... Generator Loss: 1.5257\n",
      "Epoch 90/100... Discriminator Loss: 0.8508... Generator Loss: 1.6338\n",
      "Epoch 91/100... Discriminator Loss: 0.9782... Generator Loss: 1.9370\n",
      "Epoch 92/100... Discriminator Loss: 0.9960... Generator Loss: 1.7519\n",
      "Epoch 93/100... Discriminator Loss: 1.1000... Generator Loss: 1.4728\n",
      "Epoch 94/100... Discriminator Loss: 0.7175... Generator Loss: 2.1142\n",
      "Epoch 95/100... Discriminator Loss: 0.9740... Generator Loss: 1.7457\n",
      "Epoch 96/100... Discriminator Loss: 0.8230... Generator Loss: 2.0340\n",
      "Epoch 97/100... Discriminator Loss: 0.9645... Generator Loss: 1.5268\n",
      "Epoch 98/100... Discriminator Loss: 0.9957... Generator Loss: 1.3977\n",
      "Epoch 99/100... Discriminator Loss: 0.8729... Generator Loss: 1.8129\n",
      "Epoch 100/100... Discriminator Loss: 0.8495... Generator Loss: 1.6656\n"
     ]
    }
   ],
   "source": [
    "batch_size= 100\n",
    "epochs = 100\n",
    "samples = []\n",
    "losses = []\n",
    "saver = tf.train.Saver(var_list = g_vars)\n",
    "with tf.Session() as sess:\n",
    "    sess.run(tf.global_variables_initializer())\n",
    "    for e in range(epochs):\n",
    "        for ii in range(mnist.train.num_examples//batch_size):\n",
    "            batch = mnist.train.next_batch(batch_size)\n",
    "            \n",
    "            batch_images = batch[0].reshape((batch_size,784))\n",
    "            batch_images = batch_images*2-1\n",
    "            \n",
    "            batch_z = np.random.uniform(-1,1,size=(batch_size,z_size))\n",
    "            _ = sess.run(d_train_opt, feed_dict={input_real: batch_images, input_z: batch_z})\n",
    "            _ = sess.run(g_train_opt, feed_dict={input_z: batch_z})\n",
    "        \n",
    "        train_loss_d = sess.run(d_loss, {input_z: batch_z, input_real: batch_images})\n",
    "        train_loss_g = g_loss.eval({input_z: batch_z})\n",
    "        \n",
    "        print(\"Epoch {}/{}...\".format(e+1, epochs),\n",
    "              \"Discriminator Loss: {:.4f}...\".format(train_loss_d),\n",
    "              \"Generator Loss: {:.4f}\".format(train_loss_g))    \n",
    "        # Save losses to view after training\n",
    "        losses.append((train_loss_d, train_loss_g))\n",
    "        \n",
    "        sample_z = np.random.uniform(-1, 1, size=(16, z_size))\n",
    "        gen_samples = sess.run(\n",
    "                       generator(input_z, input_size, n_units=g_hidden_size, reuse=True, alpha=alpha),\n",
    "                       feed_dict={input_z: sample_z})\n",
    "        samples.append(gen_samples)\n",
    "        saver.save(sess, './checkpoints/generator.ckpt')\n",
    "\n",
    "# Save training generator samples\n",
    "with open('train_samples.pkl', 'wb') as f:\n",
    "    pkl.dump(samples, f)\n",
    "            "
   ]
  },
  {
   "cell_type": "code",
   "execution_count": 18,
   "metadata": {},
   "outputs": [],
   "source": [
    "%matplotlib inline\n",
    "\n",
    "import matplotlib.pyplot as plt"
   ]
  },
  {
   "cell_type": "code",
   "execution_count": 19,
   "metadata": {},
   "outputs": [
    {
     "data": {
      "text/plain": [
       "<matplotlib.legend.Legend at 0x1ef8d13ad68>"
      ]
     },
     "execution_count": 19,
     "metadata": {},
     "output_type": "execute_result"
    },
    {
     "data": {
      "image/png": "[encoded data removed]",
      "text/plain": [
       "<Figure size 432x288 with 1 Axes>"
      ]
     },
     "metadata": {},
     "output_type": "display_data"
    }
   ],
   "source": [
    "fig, ax = plt.subplots()\n",
    "losses = np.array(losses)\n",
    "plt.plot(losses.T[0], label='Discriminator')\n",
    "plt.plot(losses.T[1], label='Generator')\n",
    "plt.title(\"Training Losses\")\n",
    "plt.legend()"
   ]
  },
  {
   "cell_type": "code",
   "execution_count": 20,
   "metadata": {},
   "outputs": [],
   "source": [
    "def view_samples(epoch, samples):\n",
    "    fig, axes = plt.subplots(figsize=(7,7), nrows=4, ncols=4, sharey=True, sharex=True)\n",
    "    for ax, img in zip(axes.flatten(), samples[epoch]):\n",
    "        ax.xaxis.set_visible(False)\n",
    "        ax.yaxis.set_visible(False)\n",
    "        im = ax.imshow(img.reshape((28,28)), cmap='Greys_r')\n",
    "    \n",
    "    return fig, axes"
   ]
  },
  {
   "cell_type": "code",
   "execution_count": 21,
   "metadata": {},
   "outputs": [],
   "source": [
    "# Load samples from generator taken while training\n",
    "with open('train_samples.pkl', 'rb') as f:\n",
    "    samples = pkl.load(f)"
   ]
  },
  {
   "cell_type": "code",
   "execution_count": 22,
   "metadata": {},
   "outputs": [
    {
     "data": {
      "image/png": "[encoded data removed]",
      "text/plain": [
       "<Figure size 504x504 with 16 Axes>"
      ]
     },
     "metadata": {},
     "output_type": "display_data"
    }
   ],
   "source": [
    "_ = view_samples(-1, samples)"
   ]
  },
  {
   "cell_type": "code",
   "execution_count": null,
   "metadata": {},
   "outputs": [],
   "source": []
  }
 ],
 "metadata": {
  "kernelspec": {
   "display_name": "Python 3",
   "language": "python",
   "name": "python3"
  },
  "language_info": {
   "codemirror_mode": {
    "name": "ipython",
    "version": 3
   },
   "file_extension": ".py",
   "mimetype": "text/x-python",
   "name": "python",
   "nbconvert_exporter": "python",
   "pygments_lexer": "ipython3",
   "version": "3.6.5"
  }
 },
 "nbformat": 4,
 "nbformat_minor": 2
}
